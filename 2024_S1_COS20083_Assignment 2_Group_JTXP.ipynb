{
 "cells": [
  {
   "cell_type": "markdown",
   "metadata": {},
   "source": [
    "# COS20083 Advanced Data Analytics\n",
    "\n",
    "## Assignment 2: Case Study and Algorithm Implementation\n",
    "\n",
    "### Semester 1, 2024"
   ]
  },
  {
   "cell_type": "markdown",
   "metadata": {},
   "source": [
    "#### Group Numbers: <p style =\"color: orange;\">1.Jesse Ting Wen Kai</p>\n",
    "#### <p style =\"color: orange;\">2.Chang Xiang Peng</p>\n"
   ]
  },
  {
   "cell_type": "markdown",
   "metadata": {},
   "source": [
    "### <p style =\"color: blue;\">1. Introduction</p>"
   ]
  },
  {
   "cell_type": "raw",
   "metadata": {
    "vscode": {
     "languageId": "raw"
    }
   },
   "source": [
    "(Short paragraph)\n",
    "# What is the purpose of the assignment?\n",
    "# What is the problem to be addressed by this case study?"
   ]
  },
  {
   "cell_type": "markdown",
   "metadata": {},
   "source": [
    "The purpose of this assignment is to engage students in collaborative problem-solving within the realm of data science. Working in pairs, students will navigate through a structured process, starting from data collection and moving through exploratory data analysis, model building, and model evaluation. By following these steps, students will gain practical experience in applying data science techniques to address real-world challenges.\n",
    "\n",
    "The problem addressed in this case study revolves around the difficulty consumer finance providers, such as Home Credit, face in accurately assessing the creditworthiness of individuals with limited or no credit history. Traditional evaluation methods often result in rejection for these individuals, hindering their access to financial services. To overcome this barrier, the case study seeks to leverage data science approaches to predict which clients are more likely to default on loans. By identifying potential default risks, finance providers can make informed decisions, accepting more loan applications from underserved populations while mitigating the risk of default. This approach aims to promote financial inclusion by offering loans to individuals with no credit histories who can still repay, thereby improving their financial opportunities.\n"
   ]
  },
  {
   "cell_type": "markdown",
   "metadata": {},
   "source": [
    "### <p style =\"color: blue;\">2. Data Collection</p>"
   ]
  },
  {
   "cell_type": "raw",
   "metadata": {
    "vscode": {
     "languageId": "raw"
    }
   },
   "source": [
    "(Short paragraph)\n",
    "# Describe the purpose and the process of data collection and understanding here \n"
   ]
  },
  {
   "cell_type": "markdown",
   "metadata": {},
   "source": []
  },
  {
   "cell_type": "code",
   "execution_count": 51,
   "metadata": {},
   "outputs": [],
   "source": [
    "\n",
    "# Show your code here (Step by Step) \n",
    "# Comment each step in your code"
   ]
  },
  {
   "cell_type": "markdown",
   "metadata": {},
   "source": [
    "### <p style =\"color: blue;\">3. Exploratory Data Analysis</p>"
   ]
  },
  {
   "cell_type": "raw",
   "metadata": {},
   "source": [
    "(Short paragraph)\n",
    "# Describe EDA methods here"
   ]
  },
  {
   "cell_type": "code",
   "execution_count": 52,
   "metadata": {},
   "outputs": [],
   "source": [
    "# Show your code here (Step by Step) \n",
    "# Comment each step in your code"
   ]
  },
  {
   "cell_type": "raw",
   "metadata": {},
   "source": [
    "(Short paragraph)\n",
    "# Explain:\n",
    "# (1) Description of dataframe\n",
    "# (2) Graphical plots of data\n",
    "# (3) Descriptive statistics of data"
   ]
  },
  {
   "cell_type": "markdown",
   "metadata": {},
   "source": [
    "### <p style =\"color: blue;\">4. Model Building</p>"
   ]
  },
  {
   "cell_type": "raw",
   "metadata": {},
   "source": [
    "(Short paragraph)\n",
    "# Describe the process of model building"
   ]
  },
  {
   "cell_type": "code",
   "execution_count": 53,
   "metadata": {},
   "outputs": [],
   "source": [
    "# Show your code here (Step by Step) \n",
    "# Comment each step in your code"
   ]
  },
  {
   "cell_type": "raw",
   "metadata": {
    "vscode": {
     "languageId": "raw"
    }
   },
   "source": [
    "(Short paragraph)\n",
    "# Explain: \n",
    "# (1) how the data is partitioned\n",
    "# (2) how the model is chosen\n",
    "# (3) how the model is trained\n",
    "# (4) the attributes that have the greatest effect on the results"
   ]
  },
  {
   "cell_type": "markdown",
   "metadata": {},
   "source": [
    "### <p style =\"color: blue;\">5. Model Evaluation and Validation</p>"
   ]
  },
  {
   "cell_type": "raw",
   "metadata": {
    "vscode": {
     "languageId": "raw"
    }
   },
   "source": [
    "(Short paragraph)\n",
    "# Describe the process of model evaluation\n",
    "# Describe the process of model validation"
   ]
  },
  {
   "cell_type": "code",
   "execution_count": 54,
   "metadata": {},
   "outputs": [],
   "source": [
    "# Show your code here (Step by Step) \n",
    "# Comment each step in your code"
   ]
  },
  {
   "cell_type": "raw",
   "metadata": {
    "vscode": {
     "languageId": "raw"
    }
   },
   "source": [
    "(Short paragraph)\n",
    "# Explain: \n",
    "# (1) the performance of the model created\n",
    "# (2) how the model can be used to produce stable score"
   ]
  },
  {
   "cell_type": "markdown",
   "metadata": {},
   "source": [
    "### <p style =\"color: blue;\">6. Model Validation</p>"
   ]
  },
  {
   "cell_type": "markdown",
   "metadata": {},
   "source": []
  },
  {
   "cell_type": "raw",
   "metadata": {
    "vscode": {
     "languageId": "raw"
    }
   },
   "source": [
    "(Short paragraph)\n"
   ]
  },
  {
   "cell_type": "code",
   "execution_count": 55,
   "metadata": {},
   "outputs": [],
   "source": [
    "# Show your code here (Step by Step) \n",
    "# Comment each step in your code"
   ]
  },
  {
   "cell_type": "raw",
   "metadata": {
    "vscode": {
     "languageId": "raw"
    }
   },
   "source": [
    "(Short paragraph)\n",
    "# Explain: \n"
   ]
  },
  {
   "cell_type": "markdown",
   "metadata": {},
   "source": [
    "### <p style =\"color: blue;\">7. Discussion</p>"
   ]
  },
  {
   "cell_type": "raw",
   "metadata": {
    "tags": [],
    "vscode": {
     "languageId": "raw"
    }
   },
   "source": [
    "# Identify:\n",
    "# (1) The factors that have significant influences on the credit risk and its stability\n",
    "# (2) Any interesting observation from this challenge"
   ]
  },
  {
   "cell_type": "raw",
   "metadata": {
    "vscode": {
     "languageId": "raw"
    }
   },
   "source": [
    "# Explain:\n",
    "# (1) The limitations and weaknesses of the modelling approach \n",
    "# (2) The steps taken to improve the matching accuracy in your modelling approach "
   ]
  },
  {
   "cell_type": "raw",
   "metadata": {
    "vscode": {
     "languageId": "raw"
    }
   },
   "source": [
    "# Elaborate:\n",
    "# (1) The experience in participating in a Kaggle challenge\n",
    "# (2) The discussion and submission score on Kaggle (include the screenshot or link to your submission here)\n",
    "# (3) The improvements that need to be done in order to win the challenge "
   ]
  },
  {
   "cell_type": "markdown",
   "metadata": {},
   "source": [
    "# Team contribution"
   ]
  },
  {
   "cell_type": "raw",
   "metadata": {
    "vscode": {
     "languageId": "raw"
    }
   },
   "source": [
    "# Please describe the contribution of each team member e.g. participation percentage and tasks \n",
    "(1) Team member A (50% and xxx)\n",
    "(2) Team member B (50% and xxx)\n",
    "...."
   ]
  },
  {
   "cell_type": "code",
   "execution_count": 56,
   "metadata": {},
   "outputs": [],
   "source": [
    "# References\n",
    "## Include any relevant link or reference source here"
   ]
  },
  {
   "cell_type": "markdown",
   "metadata": {},
   "source": []
  }
 ],
 "metadata": {
  "kernelspec": {
   "display_name": "Python 3 (ipykernel)",
   "language": "python",
   "name": "python3"
  },
  "language_info": {
   "codemirror_mode": {
    "name": "ipython",
    "version": 3
   },
   "file_extension": ".py",
   "mimetype": "text/x-python",
   "name": "python",
   "nbconvert_exporter": "python",
   "pygments_lexer": "ipython3",
   "version": "3.11.5"
  }
 },
 "nbformat": 4,
 "nbformat_minor": 4
}
